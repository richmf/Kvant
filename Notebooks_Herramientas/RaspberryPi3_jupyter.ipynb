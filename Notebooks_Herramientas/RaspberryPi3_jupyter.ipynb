{
 "cells": [
  {
   "cell_type": "markdown",
   "metadata": {},
   "source": [
    "# Tutorial para instalar Jupyter en Raspberry Pi\n",
    "\n",
    "> Dr. Ricardo Méndez Fragoso $\\mathbb{R}i \\vec c \\hbar$\n",
    "\n",
    "## Opción 1. Instrucciones utilizando el instalador de paquetes\n",
    "### (Recomendado)\n",
    "\n",
    "En este tutorial encontrarás los pasos para instalar **Jupyter** en una Raspberry Pi (modelo B). Este tutorial está ligado al siguiente video: [Raspberry Pi + Jupyter](https://youtu.be/IXG_w2pAFVY) y espero que sea de utilidad para tener una computadora de bajo costo y de una manera sencilla. Es recomendable utilizar Raspberry Pi OS, mejor conocido como Raspbian, y tener actualizado el sistema operativo. Para esto último se puede utilizar la herramienta que viene por default en Raspbian o abrir la terminal y ejecutar los comandos: `sudo apt-get update` y posteriormente `sudo apt-get upgrade`\n",
    "\n",
    "> En la segunda sección (Opción 2) de abajo está la forma de instalar Jupyter en modelos viejos de Raspberry Pi o de manera manual con una terminal para usuarios más avanzados.\n",
    "\n",
    "Una vez actualizado el sistema operativo, hay que ir al menú de Raspberry > Preferencias > Agregar/Remover Software. En esta aplicación hay que buscar los paquetes a instalar, en particular se recomiendas los siguientes: `jupyter`, `matplotlib`, `numpy` y `scipy`. Usualmente se muestran varios paquetes con nombres similares, pero basta con buscar los que tienen la forma: `python3-nombre_del_programa-version`. Una vez que se han instalado los paquetes anteriores se puede abrir la terminal y ejecutar el siguiente comando:\n",
    "\n",
    "`jupyter notebook`\n",
    "\n",
    "De esta manera se abrirá el navegador con la plataforma de *Jupyter* ejecutándose.\n",
    "\n",
    "***"
   ]
  },
  {
   "cell_type": "markdown",
   "metadata": {},
   "source": [
    "## Opción 2. Instrucciones para instalar desde la Terminal.\n",
    "### (Vieja escuela, usuarios avanzados y para uso posible en *Raspberry Pi* versión 3 modelo B)\n",
    "\n",
    "\n",
    "El sistema operativo que hay que utilizar es Raspberry Pi OS de 32-bits (versión armhf). Una vez que inició el sistema, hay que abrir la terminal y utilizar los siguientes comandos para obtener información del sistema y ver las versiones de *python* y de *pip* que se tienen instaladas.\n",
    "\n",
    "1  `python --version`\n",
    "\n",
    "2  `python3 --version`\n",
    "\n",
    "3  `pip --version`\n",
    "\n",
    "4  `pip3 --version`\n",
    "\n",
    "> Es recomendable que tu sistema operativo esté actualizado y para ello puedes utilizar `sudo apt-get update` y posteriormente `sudo apt-get upgrade`. Es probable que necesites reiniciar el sistema después de los comandos anteriores.\n",
    "\n",
    "Vamos a modificar el *bash* con las versiones apropiadas para hacer la instalación de *Jupyter* y para ello abriremos con el programa *geany* las preferencias del *bash* con el siguiente comando:\n",
    "\n",
    "5  `geany .bashrc`\n",
    "\n",
    "Dentro del archivo *.bashrc* hay que agregar las siguiente líneas:\n",
    "\n",
    "`alias ll='ls -l'\n",
    "alias la='ls -A'\n",
    "alias python=python3\n",
    "alias pip=pip3`\n",
    "\n",
    "Lo anterior hace que podamos utilizar *python3* y *pip3* comandos principales para la instalación. Salvamos y cerramos el archivo. De regreso en la *terminal* ponemos los siguientes comandos:\n",
    "\n",
    "6  `source .bashrc`\n",
    "\n",
    "7  `pip --version`\n",
    "\n",
    "8  `python --version`\n",
    "\n",
    "9  `pip install notebook`\n",
    "\n",
    "10  `geany .bashrc`\n",
    "    \n",
    "Con el comando 9 se hará la instalación del *jupyter* y sólo se podrá ejecutar en la ruta de instalación y es por ello que con el comando 10 abrimos las preferencias del *bash* para agregar la siguiente línea:\n",
    "\n",
    "``export PATH=/home/pi/.local/bin:$PATH``\n",
    "    \n",
    "Salvamos y cerramos el archivo *.bashrc* y de regreso en la terminal podemos ejecutar el comando:\n",
    "\n",
    "11  `source .bashrc`\n",
    "    \n",
    "De esta manera ya podemos ejecutar *jupyter* en cualquier parte del equipo con el comando:\n",
    "\n",
    "12  `jupyter notebook`\n",
    "\n",
    "Con el comando anterior se ejecuta *jupyter* en el navegador y ya se\n",
    "\n",
    "13  `sudo apt install python3-numpy python3-scipy python3-matplotlib`\n",
    "\n",
    "Con este último comando se instalará *numpy*, *scipy* y *matplotlib*."
   ]
  },
  {
   "cell_type": "markdown",
   "metadata": {},
   "source": [
    "Última fecha de actualización 9 de septiembre de 2020.\n",
    "\n",
    "+ Se agradece el apoyo al proyecto PAPIME PE 112919\n",
    "\n",
    "\n",
    "Video: [Raspberry Pi + Jupyter](https://youtu.be/IXG_w2pAFVY)\n",
    "\n",
    "[Regresar a la página del las Herramientas](http://sistemas.fciencias.unam.mx/~rich/Herramientas/)"
   ]
  }
 ],
 "metadata": {
  "kernelspec": {
   "display_name": "Python 3",
   "language": "python",
   "name": "python3"
  },
  "language_info": {
   "codemirror_mode": {
    "name": "ipython",
    "version": 3
   },
   "file_extension": ".py",
   "mimetype": "text/x-python",
   "name": "python",
   "nbconvert_exporter": "python",
   "pygments_lexer": "ipython3",
   "version": "3.8.3"
  }
 },
 "nbformat": 4,
 "nbformat_minor": 4
}
