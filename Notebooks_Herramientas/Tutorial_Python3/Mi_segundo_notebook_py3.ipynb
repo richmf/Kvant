{
 "cells": [
  {
   "cell_type": "markdown",
   "metadata": {},
   "source": [
    "# Mi segundo Notebook\n",
    "\n",
    "## Python II\n",
    "\n",
    "> Ricardo Méndez Fragoso $\\mathbb{R} i \\vec c \\hbar$\n",
    "\n",
    "Las estructuras lógicas que más se utilizan para el flujo de un programa son: ```if```, ```for``` y ```while```. Un punto importante dentro de la programación en **Python 3.x** es que dentro de las estructuras de programación no existe un comando para indicar que se ha terminado con la estructura. Para ello se utiliza la sangría o también conocida como *indentación*, es decir, todas las instrucciones que pertenecen a la misma estructura tienen que tener la misma sangría.\n",
    "\n",
    "## Cliclo ```for```\n",
    "\n",
    "La estructura ```for``` es un ciclo que se utiliza para realizar una tarea repetitiva. Este ciclo puede correr sobre elementos o sobre un índice (como en la mayoría de lenguajes de programación). En cualquiera de los casos la estructura básica es:\n",
    "\n",
    "```python\n",
    "    for condiciones:\n",
    "        intrucciones\n",
    "```\n",
    "\n",
    "A continuación, se presenta un ciclo ```for``` que corre sobre los elementos de una lista."
   ]
  },
  {
   "cell_type": "code",
   "execution_count": 1,
   "metadata": {},
   "outputs": [
    {
     "name": "stdout",
     "output_type": "stream",
     "text": [
      "Valor de i:  3\n",
      "Valor de i:  8.5\n",
      "Valor de i:  Rich\n",
      "Valor de i:  254\n"
     ]
    }
   ],
   "source": [
    "a = [3,8.5,\"Rich\",254] # se define la lista\n",
    "for i in a: # inicio del ciclo for, con la condicion de que i toma como valor a los elementos de la lista a\n",
    "    print(\"Valor de i: \", i) # la intrucción es, imprimir el valor de i"
   ]
  },
  {
   "cell_type": "markdown",
   "metadata": {},
   "source": [
    "Como se puede observar, el valor de ```i``` toma el valor de la lista que se ha proporcionado. Si por el contrario queremos que el recorrido se haga sobre el índice de la lista podemos utilizar los comandos ```range(len( ))```, los cuales hacen una lista dependiendo del número de elementos de la lista proporcionada. ```len()``` determina el número de elementos  como se muestra a continuación."
   ]
  },
  {
   "cell_type": "code",
   "execution_count": 2,
   "metadata": {},
   "outputs": [
    {
     "name": "stdout",
     "output_type": "stream",
     "text": [
      "Valor de i: 0 Valor de a[i]: 3\n",
      "Valor de i: 1 Valor de a[i]: 8.5\n",
      "Valor de i: 2 Valor de a[i]: Rich\n",
      "Valor de i: 3 Valor de a[i]: 254\n"
     ]
    }
   ],
   "source": [
    "a = [3,8.5,\"Rich\",254] # se define la lista\n",
    "for i in range(len(a)): # inicio del ciclo for con la condicion i en el rango de elementos de a\n",
    "    print(\"Valor de i:\", i, \"Valor de a[i]:\",a[i]) # imprimir los valores a[i]"
   ]
  },
  {
   "cell_type": "markdown",
   "metadata": {},
   "source": [
    "> Hay que tomar en cuenta que en ```Python``` los índices corren desde 0. En cualquiera de los casos, el ciclo ```for``` es finito. En **Python 3.x** ya no existe ```xrange()```.\n",
    "\n",
    "## Ciclo ```While```\n",
    "\n",
    "Este ciclo permanece corriendo hasta que no se cumpla una condición. La estructura básica del ciclo ```While``` es:\n",
    "\n",
    "```python\n",
    "while condicion:\n",
    "    Instrucciones\n",
    "```\n",
    "\n",
    "Hay que tener en cuenta que este ciclo puede llegar a ser infinito ya que sólo termina hasta que ya no se cumple la condición. Por ello es muy importante asegurarse que el ciclo terminará en algún momento. A continuación se presenta un ejemplo en que la condición es que el ciclo esté corriendo hasta que el índice ```n``` sea menor o igual a 5."
   ]
  },
  {
   "cell_type": "code",
   "execution_count": 3,
   "metadata": {},
   "outputs": [
    {
     "name": "stdout",
     "output_type": "stream",
     "text": [
      "Índice antes del ciclo. n = 0\n",
      "Índice dentro del ciclo. n = 0\n",
      "Índice dentro del ciclo. n = 1\n",
      "Índice dentro del ciclo. n = 2\n",
      "Índice dentro del ciclo. n = 3\n",
      "Índice dentro del ciclo. n = 4\n",
      "Índice dentro del ciclo. n = 5\n",
      "Índice al final del ciclo. n = 6\n"
     ]
    }
   ],
   "source": [
    "# Ejemplo\n",
    "n = 0 # asigna a n el valor 0\n",
    "print(\"Índice antes del ciclo. n =\", n) # imprime  el valor de antes del ciclo\n",
    "while n <= 5: # inicio de ciclo while con la condición para n\n",
    "    print(\"Índice dentro del ciclo. n =\",n) # instruccion1, imprime el valor de n dentro del ciclo\n",
    "    n = n+1 # instruccion2, sumar 1 a la variable n\n",
    "print(\"Índice al final del ciclo. n =\", n) # imprime n fuera del ciclo"
   ]
  },
  {
   "cell_type": "markdown",
   "metadata": {},
   "source": [
    "> Nota. La ubicación de las instrucciones dentro del ```while``` es importante. Por ejemplo, al momento de que n=5, se cumple la condición para estar en el ciclo y al ejecutar todas las instrucciones el índice ```n``` termina siendo 6.\n",
    "\n",
    "## Estructura ```if```, ```elif``` y ```else```\n",
    "\n",
    "La estructura ```if```, ```elif``` y ```else``` (normalmente llamada únicamente ```if```) es para tomar decisiones dentro de un programa. Estas estructuras también tienen condiciones que se deben cumplir, y dentro de ellas se pueden poner instrucciones a realizar. La estructura básica del ```if``` es la siguiente:\n",
    "\n",
    "```python\n",
    "    if condicion_1:\n",
    "        Instrucciones\n",
    "    elif condicion_2: # Esta instruccion es opcional si se tienen varias decisiones\n",
    "        Instrucciones\n",
    "    else: # Esta instruccion se usa en caso de que las anteriores no se cumplan\n",
    "        Instrucciones\n",
    "```\n",
    "\n",
    "Como se puede observar, en el caso de que se tengan varias condiciones se puede utilizar el condicional ```elif```. Cuando se tengan dos o más instrucciones será necesario poner el condicional ```else```. Éste se aplicará en caso de que no se cumpla ninguna de las condiciones anteriores, por lo que se ejecutará la última instrucción. Un ejemplo de esta estructura se muestra a continuación."
   ]
  },
  {
   "cell_type": "code",
   "execution_count": 4,
   "metadata": {},
   "outputs": [
    {
     "name": "stdout",
     "output_type": "stream",
     "text": [
      "6 es menor que  7\n"
     ]
    }
   ],
   "source": [
    "a = 6 # se define a\n",
    "b = 7 # se define b\n",
    "if a < b: # inicio de la estructura if, con la primer condicion\n",
    "    print(a, \"es menor que \", b)# instruccion 1, imprime a es menor que b\n",
    "elif a == b: # condicion2\n",
    "    print(\"son iguales\") # instruccion 2, imprime son iguales\n",
    "else: # condicion3 (si no se cumple lo anterior)\n",
    "    print(a, \" es mayor que \", b) # intruccion3,  imprime a es mayor que b"
   ]
  },
  {
   "cell_type": "markdown",
   "metadata": {},
   "source": [
    "## Funciones\n",
    "\n",
    "Cuando tenemos código que se ejecuta varias veces o que hacen diversas operaciones con la finalidad de obtener un resultado utilizando varios parámetros, resulta más práctico utilizar funciones diseñadas explícitamente para ello. Las funciones en **Python** se definen mediante el comando ```def``` y pueden contener varios argumentos que se pueden utilizar de diferentes maneras. En general una función tiene la siguiente estructura:\n",
    "\n",
    "```python\n",
    "    def nombre_de_la_funcion(argumento_1,argumento_2):\n",
    "        Instrucciones\n",
    "        return variables_a_regresar\n",
    "```\n",
    "\n",
    "La salida de una función puede ser de uno o varios parámetros de las operaciones que se realizan en su interior. Cabe mencionar que las variables que se definen dentro de dicha estructura son locales, es decir, no tienen nada que ver con las que se ejecutan fuera de ella, aunque tengan el mismo nombre, además de que dejan de existir en cuanto la función se deja de ejecutar. A continuación, se muestra un ejemplo de la estructura anterior en el que la entrada es una lista de números que son sumados."
   ]
  },
  {
   "cell_type": "code",
   "execution_count": 5,
   "metadata": {},
   "outputs": [],
   "source": [
    "# Ejemplo 1\n",
    "def fun_suma(numeros): # se define la funcion \"fun_suma\" donde los argumentos son numeros\n",
    "    suma_total = 0. # instruccion , se asigna a la variable suma_total el valor inicial 0\n",
    "    for elemento in numeros: # instruccion de la funcion (inicio de ciclo for)\n",
    "        suma_total += elemento # instruccion del ciclo for\n",
    "    return suma_total # regresa el valor suma_total"
   ]
  },
  {
   "cell_type": "markdown",
   "metadata": {},
   "source": [
    "Como se puede observar el resultado de la suma anterior se obtiene mediante la instrucción ```return```. La forma de llamar a las funciones es simplemente utilizando su nombre con los argumentos entre paréntesis. En el caso anterior podemos llamar a la función como  ```fun_suma``` con la lista de números que se desee entre corchetes, por ejemplo ```[3,2,5,6]```."
   ]
  },
  {
   "cell_type": "code",
   "execution_count": 6,
   "metadata": {},
   "outputs": [
    {
     "name": "stdout",
     "output_type": "stream",
     "text": [
      "16.0\n"
     ]
    }
   ],
   "source": [
    "print(fun_suma([3,2,5,6])) # imprime el valor de la fun_suma con los parametros [3,2,5,6]"
   ]
  },
  {
   "cell_type": "markdown",
   "metadata": {},
   "source": [
    "Las funciones no necesariamente tienen que regresar una variable, ya que se pueden utilizar simplemente para realizar un conjunto de operaciones. Ejemplo de lo anterior es la siguiente función."
   ]
  },
  {
   "cell_type": "code",
   "execution_count": 7,
   "metadata": {},
   "outputs": [
    {
     "name": "stdout",
     "output_type": "stream",
     "text": [
      "9  es mayor que  6\n"
     ]
    }
   ],
   "source": [
    "# Ejemplo 2\n",
    "def compara(a,b): # se define la funcion compara, con argumentos (a,b)\n",
    "    if a < b: # instruccion de la funcion (inicio del condicional if,condicion1)\n",
    "        print(a, \" es menor que \",b) # instruccion del if\n",
    "    elif a == b: # condicion2 (elif)\n",
    "        print(\"son iguales\") # instruccion del elif\n",
    "    else: # condicion3 si no pasa todo lo anterior\n",
    "        print(a, \" es mayor que \", b) # instruccion del else\n",
    "\n",
    "compara(9,6) # se llama a la funcion para compara los numeros 9 y 6"
   ]
  },
  {
   "cell_type": "markdown",
   "metadata": {},
   "source": [
    "En el caso anterior, la función sólo puede hacer la comparación entre dos números, ```a``` y ```b```. Si se requiere hacer comparaciones entre dos listas de números, se puede hacer otra función que mande a llamar la función anterior para cada par de elementos a comparar en cada lista. Ejemplo de ello es la siguiente función."
   ]
  },
  {
   "cell_type": "code",
   "execution_count": 8,
   "metadata": {},
   "outputs": [],
   "source": [
    "def compara_lista(lista_A,lista_B): # se define la funcion compara, con argumentos entre parentesis\n",
    "    if len(lista_A) != len(lista_B):# instruccion de la funcion (inicio del condicional if,)\n",
    "        print(\"El tamaño de las listas no es el mismo\") # instruccion del if\n",
    "    else: # condicion2 (elif)\n",
    "           for i in range(len(lista_A)): # instruccion del eslse (ciclo for)\n",
    "                compara(lista_A[i],lista_B[i]) # llama a la funcion compara"
   ]
  },
  {
   "cell_type": "markdown",
   "metadata": {},
   "source": [
    "En la primer condición ```if``` se ha puesto un candado sobre el uso de la función anterior, para que los tamaños de las listas sean iguales. Mientras que la segunda condición ```else``` tiene por objeto comparar elemento por elemento de cada lista, esto utilizando el ciclo ```for``` junto con ```range(len())``` y la función ```compara()``` definida anteriormente."
   ]
  },
  {
   "cell_type": "code",
   "execution_count": 9,
   "metadata": {},
   "outputs": [
    {
     "name": "stdout",
     "output_type": "stream",
     "text": [
      "9  es mayor que  3\n",
      "7  es menor que  9\n",
      "8  es mayor que  5\n",
      "son iguales\n"
     ]
    }
   ],
   "source": [
    "compara_lista([9,7,8,6],[3,9,5,6])  # llama a la funcion compara"
   ]
  },
  {
   "cell_type": "markdown",
   "metadata": {},
   "source": [
    "Las funciones pueden tener los mismos objetivos, sin embargo se pueden obtener de diferentes maneras. A continuación, se presentan dos funciones que tienen por objeto sumar los elementos de una lista. Cada función utiliza una forma diferente de hacer la suma, la primera ```fun_suma()```, tiene un ciclo que va sobre los elementos de la lista, mientras la segunda, ```fun_suma_indice()```, lo hace utilizando los índices de la lista."
   ]
  },
  {
   "cell_type": "code",
   "execution_count": 10,
   "metadata": {},
   "outputs": [],
   "source": [
    "#1er funcion\n",
    "def fun_suma(numeros): # se define la funcion \"fun_suma()\", con argumentos (numeros)\n",
    "    suma_total = 0. # instruccion de la funcion(asigna a suma_total el valor 0 )\n",
    "    for i in numeros:# instruccion de la funcion (inicio del ciclo for )\n",
    "        print(i) # instruccion para for, imprime i\n",
    "        suma_total += i # instruccion para for, a la variable suma_total suma el elemento i\n",
    "    return suma_total # regresa el valor de suma_total\n",
    "\n",
    "#2da funcion\n",
    "def fun_suma_indice(numeros): # se define la funcion \"fun_suma_indice()\",con argumentos (numeros)\n",
    "    suma_total = 0. # instruccion de la funcion(asigna a suma_total el valor 0 )\n",
    "    for i in range(len(numeros)): # instruccion de la funcion (incicio del ciclo for )\n",
    "        print(i, numeros[i]) # instruccion para for, imprime i, numeros[i]\n",
    "        suma_total += numeros[i ] # instruccion para for, a la variable suma_total suma el elemento numeros[i]\n",
    "    return suma_total # regresa el valor de suma_total"
   ]
  },
  {
   "cell_type": "code",
   "execution_count": 11,
   "metadata": {},
   "outputs": [
    {
     "name": "stdout",
     "output_type": "stream",
     "text": [
      "3\n",
      "5\n",
      "8\n",
      "9.1\n",
      "Resultado de la suma con fun_suma:  25.1\n",
      "- - - - - - - - - - - - - - - - - - - - - - - - -\n",
      "0 3\n",
      "1 5\n",
      "2 8\n",
      "3 9.1\n",
      "Resultado de la suma con fun_suma:  25.1\n"
     ]
    }
   ],
   "source": [
    "lista_de_numeros = [3,5,8,9.1] # define la variable \"lista_de_numeros\" como una lista\n",
    "a = fun_suma(lista_de_numeros) # asigna \"a\" con la funcion fun_suma(lista_de_numeros)\n",
    "print(\"Resultado de la suma con fun_suma: \", a) # imprime \"a\" \n",
    "print(\"- - - - - - - - - - - - - - - - - - - - - - - - -\")\n",
    "a = fun_suma_indice(lista_de_numeros) # asigna a \"a\" el resultado de la función fun_suma_indice(lista_de_numeros)\n",
    "print(\"Resultado de la suma con fun_suma: \", a) # imprime \"a\""
   ]
  },
  {
   "cell_type": "markdown",
   "metadata": {},
   "source": [
    "> Note que en las funciones anteriores se ha puesto la instrucción ```print``` para observar la forma en la que se hace la suma.\n",
    "\n",
    "### Funciones con argumentos opcionales\n",
    "\n",
    "En ocasiones se tienen funciones que pueden tener varios parámetros que pueden ser opcionales, para ello se pueden declarar estos parámetros con valores predeterminados como se muestra en el siguiente ejemplo."
   ]
  },
  {
   "cell_type": "code",
   "execution_count": 12,
   "metadata": {},
   "outputs": [],
   "source": [
    "def funcion_c_opcion(argumento,argumento_op=[]): # define la funcion, el segundo argumento es opcional\n",
    "    if len(argumento_op) != 0:# instruccion de la funcion(inicio del condicional if )\n",
    "        print(\"Tenemos opciones. El valor del primer argumento es: \", argumento) # instruccion1 del if\n",
    "        print(\"El valor del segundo argumento es: \", argumento_op) # instruccion2 del if\n",
    "    else: # condicion2 (condicional else)\n",
    "        print(\"No hay opciones. El valor del primer argumento es: \", argumento) # instruccion para el else\n",
    "    return # regresa el resultado"
   ]
  },
  {
   "cell_type": "markdown",
   "metadata": {},
   "source": [
    "Estas opciones son muy útiles para no generar diferentes funciones con los mismos objetivos o para tener valores predeterminados que posteriormente se pueden modificar en otra ejecución. A continuación se muestra la forma de utilizar la función anterior."
   ]
  },
  {
   "cell_type": "code",
   "execution_count": 13,
   "metadata": {},
   "outputs": [
    {
     "name": "stdout",
     "output_type": "stream",
     "text": [
      "Tenemos opciones. El valor del primer argumento es:  Argumento 1\n",
      "El valor del segundo argumento es:  [1]\n",
      "No hay opciones. El valor del primer argumento es:  Argumento 1\n"
     ]
    }
   ],
   "source": [
    "funcion_c_opcion(\"Argumento 1\",[1]) \n",
    "funcion_c_opcion(\"Argumento 1\")"
   ]
  },
  {
   "cell_type": "markdown",
   "metadata": {},
   "source": [
    "En los notebook's de ejemplos representativos de las [Herramientas](http://sistemas.fciencias.unam.mx/~rich/Herramientas/index.html) puedes encontrar varias situaciones útiles en las que se pueden utilizar las estructuras anteriores. No todos los notebook's están escritos en Python.\n",
    "\n",
    "[Regresar a las herramientas.](http://sistemas.fciencias.unam.mx/~rich/Herramientas/index.html)\n",
    "\n",
    "Curso relacionado con este notebook: [Física Computacional.](http://sistemas.fciencias.unam.mx/~rich/FisComp/)\n",
    "\n",
    "Se agradece el apoyo de los proyectos DGAPA-PAPIME:\n",
    "\n",
    "+ PE 112919 durante el año 2020. *Mantenimiento general, actualización a la última versión de Python*\n",
    "+ PE 105017 durante el año 2017. *Idea original*"
   ]
  }
 ],
 "metadata": {
  "kernelspec": {
   "display_name": "Python 3",
   "language": "python",
   "name": "python3"
  },
  "language_info": {
   "codemirror_mode": {
    "name": "ipython",
    "version": 3
   },
   "file_extension": ".py",
   "mimetype": "text/x-python",
   "name": "python",
   "nbconvert_exporter": "python",
   "pygments_lexer": "ipython3",
   "version": "3.8.3"
  }
 },
 "nbformat": 4,
 "nbformat_minor": 2
}
