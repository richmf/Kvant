{
 "cells": [
  {
   "cell_type": "markdown",
   "metadata": {},
   "source": [
    "# Mi primer notebook \n",
    "\n",
    "## Python I\n",
    "\n",
    "> Ricardo Méndez Fragoso $\\mathbb{R} i \\vec c \\hbar$\n",
    "\n",
    "Dado que **Jupyter notebook** es una herramienta muy versátil. Se pueden tener varios lenguajes de programación bajo la misma plataforma, como por ejemplo: Python 2.7, Python 3.x, Julia, C, JavaScript, etc. Este *notebook* está dedicado a mostrar la programación en Pyhton 3.x. Las diferencias con respecto a Python 2.7 son mejoras en la estabilidad y formalismo en la programación. En la sección de [herramientas](http://sistemas.fciencias.unam.mx/~rich/Herramientas/index.html) de mi página personal se encuentran varios *notebooks* escritos en diferentes lenguajes de programación. El propósito es mostrar que se pueden hacer programas de cómputo científico utilizando deferentes herramientas, y en todo momento se ha tartado de escoger la más adecuada desde el punto de vista computacional como del programador. En este sentido, la filosofía de trabajo es utilizar una herramienta que sea estable, rápido de programar y ejecutar. Si el lector se está iniciando en la programación puede comenzar con cualquier versión de Pyhton, o mejor aún, puede aprender a utilizar Julia, sobre todo si su objeto de estudio es cómputo científico.\n",
    "\n",
    "> A veces no es sencillo encontrar la mejor herramienta de trabajo que conjunte rapidez de programación y ejecución de un programa al mismo tiempo. Por esta razón es importante conocer muchos lenguajes y herramientas de programación que nos ayuden a alcanzar nuestros objetivos.\n",
    "\n",
    "Se invita al lector a revisar los otros tutoriales en [herramientas](http://sistemas.fciencias.unam.mx/~rich/Herramientas/index.html). Lo más relevante es que no importa que lenguaje se utiliza, sino que el programa funcione de manera eficiente y sobre todo que haga bien las cosas.\n",
    "\n",
    "La ventaja de Pyhton, en cualquiera de sus versiones, es que es muy fácil de usar, cualquiera puede aprender a usarlo, y tiene muy buena integración con muchas cosas como Apps, aplicaciones web, dispositivos periféricos, gráficos interactivos, etc. Respecto a Python 3.8 puedo decir que es un lenguaje más formal que su versión 2.7. Para empezar, tiene muchas instrucciones que se manejan como funciones a diferencia de la versión anterior, la 2.7. Ejemplo de lo anterior es la función `print` como se muestra a continuación:\n",
    "\n",
    "```python\n",
    "# Python 2.7\n",
    "print \"Hola\"\n",
    "```\n",
    "\n",
    "```python\n",
    "# Python 3.6\n",
    "print(\"Hola\")\n",
    "```\n",
    "\n",
    "## Empecemos formalmente este *notebook* con varios ejemplos útiles."
   ]
  },
  {
   "cell_type": "code",
   "execution_count": 1,
   "metadata": {},
   "outputs": [
    {
     "name": "stdout",
     "output_type": "stream",
     "text": [
      "Hola\n",
      "Adiós\n"
     ]
    }
   ],
   "source": [
    "# Para desplegar una cadena de caracteres se utiliza la funcion print y el texto a desplegar se pone entre comillas.\n",
    "print(\"Hola\") # imprime la palabra hola, las comillas no son impresas.\n",
    "print(\"Adiós\") # imprime la palabra adios, las comillas no son impresas."
   ]
  },
  {
   "cell_type": "markdown",
   "metadata": {},
   "source": [
    "Para concatenar texto y/o variables basta con poner una coma entre cada elemento a desplegar. También se pueden hacer operaciones aritméticas básicas como suma (<font color='DarkViolet'>+</font>), resta (<font color='DarkViolet'>-</font>), división (<font color='DarkViolet'>$/$</font>), multiplicación (<font color='DarkViolet'>$*$</font>) y potencia (<font color='DarkViolet'>$**$</font>)."
   ]
  },
  {
   "cell_type": "code",
   "execution_count": 2,
   "metadata": {},
   "outputs": [
    {
     "name": "stdout",
     "output_type": "stream",
     "text": [
      "La suma es:  7\n",
      "La multiplicación es:  10\n",
      "La división manejando enteros es:  2\n",
      "La división manejando números reales es:  2.5\n",
      "La potencia de un número es:  25.0\n"
     ]
    }
   ],
   "source": [
    "# los numeros que no tienen punto decimal se manejan como numeros enteros\n",
    "# Es importante colocar la coma antes de los elementos que queremos que el programa nos imprima.\n",
    "print(\"La suma es: \", 5+2 ) # imprime el valor de la suma, que es 7 (7 como entero ya que es suma de enteros), junto con la oración comillas.\n",
    "print(\"La multiplicación es: \", 5*2 ) # imprime el valor de la multiplicación que es 10,(10 como entero ya que es producto de enteros), junto oración entre comillas.\n",
    "print(\"La división manejando enteros es: \", 5//2 ) # imprime el valor de la división, que es 2 (puesto que 5 y 2 son enteros, el resultado de la división es un entero),junto oración entre comillas.\n",
    "print(\"La división manejando números reales es: \", 5/2 ) # imprime el valor de la división que es 2.5 (puesto que 5 y 2 son reales, el resulatdo de la división es un real, basta con que uno de los dos lo sea), junto oración entre comillas. \n",
    "print(\"La potencia de un número es: \", 5**2.) # imprime el valor de 5^2.=25.0 (5 es un entero, pero 2 es real, por lo que el resultado es un real),junto oración entre comillas."
   ]
  },
  {
   "cell_type": "markdown",
   "metadata": {},
   "source": [
    "Note que en Python 3.x los números se manejan en general como números flotantes a diferencia de Python 2.7. Ejemplo de lo anterior es que en el caso de la división con números enteros se tiene que utilizar doble diagonal (<font color='DarkViolet'>$//$</font>), mientras que con una sola diagonal (<font color='DarkViolet'>$/$</font>) basta con hacer la división para que el resultado sea un número flotante independientemente de si se utilizan enteros o flotantes.\n",
    "\n",
    "Se pueden asignar variables de forma dinámica en el momento que uno quiera y **python** siempre tomará el último valor que se le asignó a la variable."
   ]
  },
  {
   "cell_type": "code",
   "execution_count": 3,
   "metadata": {},
   "outputs": [
    {
     "name": "stdout",
     "output_type": "stream",
     "text": [
      "valor de a: 0.3333333333333333\n",
      "nuevo valor de a : 10\n"
     ]
    }
   ],
   "source": [
    "a=1/3 # Se define el el valor numerico de a.\n",
    "print(\"valor de a:\",a) # imprime el valor de a\n",
    "a=10 # Se define el nuevo valor de a, que es el que tomara en cuenta python.\n",
    "print(\"nuevo valor de a :\",a) #imprime el valor de a"
   ]
  },
  {
   "cell_type": "markdown",
   "metadata": {},
   "source": [
    "A las variables se les puede asignar una cadena de caracteres, números enteros, números reales o flotantes, listas, etc. A continuación se exponen algunos ejemplos."
   ]
  },
  {
   "cell_type": "code",
   "execution_count": 4,
   "metadata": {},
   "outputs": [
    {
     "name": "stdout",
     "output_type": "stream",
     "text": [
      "Variables:  5 12 17 0.4166666666666667 60 244140625 3 Rich\n"
     ]
    }
   ],
   "source": [
    "a=5 # Se define el valor numerico de, a \n",
    "b=12 # Se define el valor numerico de, b\n",
    "c=\"Rich\" # Se define, c como cadena de caracteres, entre comillas\n",
    "d=3 # Se define el valor numérico de,d\n",
    "print(\"Variables: \",a,b, a+b, a/b, a*b, a**b,d,c) # imprimir el valor de las variables definidas anteriormente, junto con las operaciones dadas.  "
   ]
  },
  {
   "cell_type": "markdown",
   "metadata": {},
   "source": [
    "## Tipos de Variables\n",
    "\n",
    "Para hacer el cambio en el manejo en el tipo de variables se pueden utilizar los comandos ```str(variable)``` para convertir una variable a cadena de caracteres. Si se utiliza `int(variable)`, la variable se convertirá en un entero. De la misma manera, si se utiliza ```float(variable)``` el resultado es que la variable se convierte a una de tipo flotante o número real. En el caso de una cadena de caracteres, éstas se pueden concatenar para generar una cadena mas grande utilizando el símbolo de suma, ```+```.\n",
    "\n",
    "> Nota: Cabe mencionar que estas funciones se utilizan en un contexto en el que se están manejando variables compatibles. Es decir, no se pueden utilizar para cambiar una cadena de caracteres con letras, a enteros o flotantes. A continuación se utilizan las mismas variables definidas que en la celda anterior."
   ]
  },
  {
   "cell_type": "code",
   "execution_count": 5,
   "metadata": {},
   "outputs": [
    {
     "name": "stdout",
     "output_type": "stream",
     "text": [
      "Variable b= 12 y b como cadena de caracteres 12\n",
      "Variable a= 5 y a como entero 5\n",
      "Variable d= 3 y b como flotante 3.0\n",
      "Concatenar variables:  Rich12\n"
     ]
    }
   ],
   "source": [
    "# imprime la variable numerica \"b\", e imprime la misma variable, pero ahora como cadena de caracteres.\n",
    "print(\"Variable b=\", b , \"y b como cadena de caracteres\" , str(b))\n",
    "\n",
    "# imprime la variable numerica real \"a\", e imprime la misma variable, pero ahora como entero.\n",
    "print(\"Variable a=\", a , \"y a como entero\" , int(a))\n",
    "\n",
    "# imprime la variable numerica entera \"d\", e imprime la misma variable \"d\", pero ahora como real. \n",
    "print(\"Variable d=\", d , \"y b como flotante\" , float(d) )\n",
    "\n",
    "# imprime la suma de la variable \"c\", que es una cadena de caracteres, mas la variable \"b\", transformada a cadena de caracteres.\n",
    "print(\"Concatenar variables: \", c + str(b) )"
   ]
  },
  {
   "cell_type": "markdown",
   "metadata": {},
   "source": [
    "Nótese que el reglón 11, es una suma de variables como cadena de caracteres, ya que *python* realizará operaciones que sean con variables compatibles. Es decir, se pueden hacer operaciones de números con números, cadenas de letras con cadenas de letras, listas con listas, etc.  \n",
    "\n",
    "## Listas\n",
    "\n",
    "Las ```listas``` son arreglos que son similares a vectores en los que se pueden poner cualquier tipo de objetos como flotantes, cadenas de caracteres, enteros, etc. Las listas se pueden asignar a alguna variable y para declararlas se utilizan los paréntesis cuadrados. Ejemplo de lo anterior es:"
   ]
  },
  {
   "cell_type": "code",
   "execution_count": 6,
   "metadata": {},
   "outputs": [
    {
     "name": "stdout",
     "output_type": "stream",
     "text": [
      "[3, 'Hola', 'aqui', 807070.8]\n"
     ]
    }
   ],
   "source": [
    "lista1=[3,\"Hola\",\"aqui\",807070.8] # Se definen los elementos que componen la lista1\n",
    "print(lista1) #imprime la lista1"
   ]
  },
  {
   "cell_type": "markdown",
   "metadata": {},
   "source": [
    "Se puede acceder al contenido de las entradas de las listas utilizando los paréntesis cuadrados.\n",
    "\n",
    "> Nota: Hay que tomar en cuenta de que en *python* los índices comienzan en **cero**, es decir el primer elemento de una lista para *python*, es el elemento cero."
   ]
  },
  {
   "cell_type": "code",
   "execution_count": 7,
   "metadata": {},
   "outputs": [
    {
     "name": "stdout",
     "output_type": "stream",
     "text": [
      "3 Hola\n"
     ]
    }
   ],
   "source": [
    "print(lista1[0],lista1[1]) # imprime el primer y segundo elemento de la variable lista1"
   ]
  },
  {
   "cell_type": "markdown",
   "metadata": {},
   "source": [
    "Tome en cuenta que las cadenas de caracteres se pueden considerar como listas. Por ejemplo, en la variable \"c\" de los párrafos anteriores, se pueden obtener la primera y cuarta letra de la siguiente manera. También se puede hacer lo mismo con la variable \"b\", misma que es de tipo entero y se tiene que trasnformar a una cadena de caracteres."
   ]
  },
  {
   "cell_type": "code",
   "execution_count": 8,
   "metadata": {},
   "outputs": [
    {
     "name": "stdout",
     "output_type": "stream",
     "text": [
      "R h\n",
      "1\n"
     ]
    }
   ],
   "source": [
    "print(c[0], c[3]) # imprime el primer y segundo elemento de la variable \"c\", la cual es una cadena de caracteres\n",
    "b=123 # se define la variable numérica entera, \"b\"\n",
    "print(str(b)[0]) # imprime el primer elemento de la variable \"b\", la cual ahora es una cadena de caracteres."
   ]
  },
  {
   "cell_type": "markdown",
   "metadata": {},
   "source": [
    "En el siguiente ejemplo, en una misma línea de código se definen dos variables \"a\" y \"b\", como un entero y una cadena de caracteres respectivamente. En la tercera línea de código  se la interpreta a la variable ```b``` como una lista, de tal manera que nos mandará el tercer elemento de la cadena de caracteres que corresponde con la letra \"d\"."
   ]
  },
  {
   "cell_type": "code",
   "execution_count": 9,
   "metadata": {},
   "outputs": [
    {
     "name": "stdout",
     "output_type": "stream",
     "text": [
      "5 cadena\n"
     ]
    },
    {
     "data": {
      "text/plain": [
       "'d'"
      ]
     },
     "execution_count": 9,
     "metadata": {},
     "output_type": "execute_result"
    }
   ],
   "source": [
    "a,b=5,\"cadena\" # Se define la variable numerica entera, \"a\" y la variable como cadena de caracteres, \"b\"\n",
    "print(a,b) # imprime las variables definidas en el reglon anterior.\n",
    "b[2] # Tercer elemento de la cadena de caracteres \"b\", interpretada como lista, en este caso la manda como un OUT"
   ]
  },
  {
   "cell_type": "markdown",
   "metadata": {},
   "source": [
    "Ahora se define la variable \"a\" como cadena de caracteres de números, mientras que la variable \"b\" se define como una variable flotante como resultado de la suma de los elementos de la cadena de caracteres. En *python* la suma de caracteres es la \"unión\" de tales elementos tipo cadena. El caso de la variable \"c\" se define como una variable flotante, resultado de la suma aritmética de dos elementos como variables flotantes a partir de la cadena de caracteres. Es importante notar la diferencia entre la variable \"b\" y \"c\"."
   ]
  },
  {
   "cell_type": "code",
   "execution_count": 10,
   "metadata": {},
   "outputs": [
    {
     "name": "stdout",
     "output_type": "stream",
     "text": [
      "1 87.0 15.0\n"
     ]
    }
   ],
   "source": [
    "a=\"187253875\" # Se define la variable \"a\" como cadena de caracteres de números\n",
    "b=float(a[1]+a[2]) # Se define la variable numerica real \"b\", como la suma del segundo y tercer elemento (ambos como cadena de caracteres) de la cadena de caracteres \"a\"\n",
    "c=float(float (a[1])+ float (a[2])) # Se define la variable numerica real \"c\" como la suma del segundo y tercer elemento (ambos como variables reales) de la cadena de caracteres \"a\"\n",
    "print(a[0],b,c) # imprime el primer elemento de la cadena de caracteres \"a\", asi como las variables \"b\" y \"c\", definidas anteriormente"
   ]
  },
  {
   "cell_type": "markdown",
   "metadata": {},
   "source": [
    "Hay otro tipo de listas que se llaman ```tuple``` y como veremos en los *notebook*'s subsecuentes se pueden utilizar para pasar parámetros entre las funciones. Ejemplo de este tipo de lista se muestra a continuación:"
   ]
  },
  {
   "cell_type": "code",
   "execution_count": 11,
   "metadata": {},
   "outputs": [
    {
     "name": "stdout",
     "output_type": "stream",
     "text": [
      "(331, 66, 'Hola')\n",
      "Hola\n"
     ]
    }
   ],
   "source": [
    "pipe=(331,66,\"Hola\") # Se definen los elementos de la lista pipe.\n",
    "print(pipe) # Imprime pipe, que se definió en el reglón anterior.\n",
    "print(pipe[2]) # Imprime el tercer elemento de la lista pipe"
   ]
  },
  {
   "cell_type": "markdown",
   "metadata": {},
   "source": [
    "En los *notebook*'s subsecuentes de este tutorial podremos ver las aplicaciones de este conocimiento básico.\n",
    "\n",
    "[Regresar a las herramientas.](http://sistemas.fciencias.unam.mx/~rich/Herramientas)\n",
    "\n",
    "Curso relacionado con este notebook: [Física Computacional.](http://sistemas.fciencias.unam.mx/~rich/FisComp/)\n",
    "\n",
    "Se agradece el apoyo de los proyectos DGAPA-PAPIME:\n",
    "\n",
    "+ PE 112919 durante el año 2020. *Mantenimiento general, actualización a la última versión de Python*\n",
    "+ PE 105017 durante el año 2017. *Idea original.*"
   ]
  }
 ],
 "metadata": {
  "kernelspec": {
   "display_name": "Python 3",
   "language": "python",
   "name": "python3"
  },
  "language_info": {
   "codemirror_mode": {
    "name": "ipython",
    "version": 3
   },
   "file_extension": ".py",
   "mimetype": "text/x-python",
   "name": "python",
   "nbconvert_exporter": "python",
   "pygments_lexer": "ipython3",
   "version": "3.8.3"
  }
 },
 "nbformat": 4,
 "nbformat_minor": 2
}
