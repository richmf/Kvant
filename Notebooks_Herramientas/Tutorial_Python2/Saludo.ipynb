{
 "cells": [
  {
   "cell_type": "code",
   "execution_count": 1,
   "metadata": {},
   "outputs": [],
   "source": [
    "def Saludar_desde_ipynb():\n",
    "    print 'Hola, esta función vive en el archivo Saludo.ipynb'"
   ]
  },
  {
   "cell_type": "markdown",
   "metadata": {},
   "source": [
    "Archivo auxiliar del tutorial de Python 2.\n",
    "\n",
    "[Regresar a las herramientas.](http://sistemas.fciencias.unam.mx/~rich/Herramientas)\n",
    "\n",
    "Curso relacionado con este notebook: [Física Computacional.](http://sistemas.fciencias.unam.mx/~rich/FisComp/)\n",
    "\n",
    "Se agradece el apoyo de los proyectos DGAPA-PAPIME:\n",
    "\n",
    "+ PE 112919 durante el año 2020. *Mantenimiento general, actualización final de este tutorial*\n",
    "\n",
    "+ PE 105017 durante el año 2017. *Mantenimiento*\n",
    "\n",
    "+ PE 108216 durante el año 2016. *Mantenimiento mayor*\n",
    "\n",
    "+ PE 106615 durante el año 2015. *Idea original*"
   ]
  }
 ],
 "metadata": {
  "kernelspec": {
   "display_name": "Python 3",
   "language": "python",
   "name": "python3"
  },
  "language_info": {
   "codemirror_mode": {
    "name": "ipython",
    "version": 3
   },
   "file_extension": ".py",
   "mimetype": "text/x-python",
   "name": "python",
   "nbconvert_exporter": "python",
   "pygments_lexer": "ipython3",
   "version": "3.8.3"
  }
 },
 "nbformat": 4,
 "nbformat_minor": 1
}
