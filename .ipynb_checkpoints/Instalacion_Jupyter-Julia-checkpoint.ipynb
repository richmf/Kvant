{
 "cells": [
  {
   "cell_type": "markdown",
   "metadata": {},
   "source": [
    "# Instalación de Jupyter, Julia y IJulia\n",
    "\n",
    "> Dr. Ricardo Méndez Fragoso $\\mathbb{R}i \\vec c \\hbar$\n",
    "\n",
    "### Jupyter\n",
    "\n",
    "En cualquier sistema operativo primero hay que instalar primero [Jupyter](https://jupyter.org/). Se recomienda utilizar la distribución de [Anaconda](https://www.anaconda.com/), aunque también se puede utilizar [pip](https://pypi.org/project/pip/). Yo en particular me gusta más para principiantes, y en general, la distribución de Anaconda y descargar la *edición individual* que es gratuita, ya que viene con muchas bibliotecas listas para utilizarse. La instalación en Mac y Windows la instalación es muy sencilla haciendo doble click sobre el instalador descargado y siguiendo las intrucciones que vienen con éste.\n",
    "\n",
    "> En Linux hay que descargar Anaconda y en la Terminal de comandos hay que teclear: `bash ~/Downloads/Anaconda3-2020.07-Linux-x86_64.sh` , donde `~/Downloads` es el directorio donde normalmente se descargan los archivos del navegador y en este caso el paquete instalador descargado es `Anaconda3-2020.07-Linux-x86_64.sh`.\n",
    "\n",
    "### Julia\n",
    "\n",
    "\n",
    "\n",
    "### IJulia\n",
    "\n",
    "**IJulia** es un complement de Julia que permite hacer notebooks de Julia desde la plataforma de Jupyter. La documentación de IJulia se encuente en el siguiente enlace: [JuliaLang/IJulia.jl](https://github.com/JuliaLang/IJulia.jl) \n",
    "\n",
    "`\n",
    "using Pkg\n",
    "`\n",
    "\n",
    "`\n",
    "Pkg.add(\"IJulia\")\n",
    "`\n",
    "\n",
    "\n"
   ]
  },
  {
   "cell_type": "markdown",
   "metadata": {},
   "source": [
    "Última fecha de actualización 23 de septiembre de 2020.\n",
    "\n",
    "+ Se agradece el apoyo al proyecto PAPIME PE 112919\n",
    "\n",
    "\n",
    "Video: [Instalación de Anaconda-Jupyter, Julia y IJulia](https://youtu.be/_-rXZnJ-5Sg)\n",
    "\n",
    "[Regresar a la página del las Herramientas](http://sistemas.fciencias.unam.mx/~rich/Herramientas/)"
   ]
  }
 ],
 "metadata": {
  "kernelspec": {
   "display_name": "Python 3",
   "language": "python",
   "name": "python3"
  },
  "language_info": {
   "codemirror_mode": {
    "name": "ipython",
    "version": 3
   },
   "file_extension": ".py",
   "mimetype": "text/x-python",
   "name": "python",
   "nbconvert_exporter": "python",
   "pygments_lexer": "ipython3",
   "version": "3.8.3"
  }
 },
 "nbformat": 4,
 "nbformat_minor": 4
}
