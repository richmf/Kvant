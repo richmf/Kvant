{
 "cells": [
  {
   "cell_type": "markdown",
   "metadata": {},
   "source": [
    "# Instalación de Jupyter, Julia y IJulia\n",
    "\n",
    "> Dr. Ricardo Méndez Fragoso $\\mathbb{R}i \\vec c \\hbar$\n",
    "\n",
    "`\n",
    "using Pkg\n",
    "`\n",
    "\n",
    "\n",
    "Última fecha de actualización 9 de septiembre de 2020.\n",
    "\n",
    "+ Se agradece el apoyo al proyecto PAPIME PE 112919\n",
    "\n",
    "\n",
    "Video: [Raspberry Pi + Jupyter](https://youtu.be/IXG_w2pAFVY)\n",
    "\n",
    "[Regresar a la página del las Herramientas](http://sistemas.fciencias.unam.mx/~rich/Herramientas/)"
   ]
  }
 ],
 "metadata": {
  "kernelspec": {
   "display_name": "Python 3",
   "language": "python",
   "name": "python3"
  },
  "language_info": {
   "codemirror_mode": {
    "name": "ipython",
    "version": 3
   },
   "file_extension": ".py",
   "mimetype": "text/x-python",
   "name": "python",
   "nbconvert_exporter": "python",
   "pygments_lexer": "ipython3",
   "version": "3.8.3"
  }
 },
 "nbformat": 4,
 "nbformat_minor": 4
}
