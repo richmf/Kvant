{
 "cells": [
  {
   "cell_type": "markdown",
   "metadata": {},
   "source": [
    "# Instalación de Jupyter, Julia y IJulia\n",
    "\n",
    "> Dr. Ricardo Méndez Fragoso $\\mathbb{R}i \\vec c \\hbar$\n",
    "\n",
    "### Jupyter\n",
    "\n",
    "En cualquier sistema operativo primero hay que instalar primero [Jupyter](https://jupyter.org/). Se recomienda utilizar la distribución de [Anaconda](https://www.anaconda.com/), aunque también se puede utilizar [pip](https://pypi.org/project/pip/). Yo en particular me gusta más para principiantes, y en general, la distribución de Anaconda y descargar la *edición individual* que es gratuita, ya que viene con muchas bibliotecas listas para utilizarse. La instalación en Mac y Windows la instalación es muy sencilla haciendo doble click sobre el instalador descargado y siguiendo las instrucciones que vienen con éste.\n",
    "\n",
    "> En Linux hay que descargar Anaconda y en la Terminal de comandos hay que teclear: `bash ~/Downloads/Anaconda3-2020.07-Linux-x86_64.sh` , donde `~/Downloads` es el directorio donde normalmente se descargan los archivos del navegador y en este caso el paquete instalador descargado es `Anaconda3-2020.07-Linux-x86_64.sh`.\n",
    "\n",
    "Es importante ver que Jupyter este funcionando y para ello podemos abrir Anaconda en las aplicaciones y dar click en *Jupyter notebook*, esto abrirá una terminal que ejecutará Jupyter y abrirá el navegador de internet con la plataforma de *Jupyter notebook*. La idea es crear un notebook y escribir algunos comandos de python y verificar que funciona todo bien.\n",
    "\n",
    "Otra opción, que es la que más me gusta es abrir la terminal y ejecutar el comando `jupyter notebook` y generar un notebook para verificar que todo está funcionando bien."
   ]
  },
  {
   "cell_type": "markdown",
   "metadata": {},
   "source": [
    "### Julia\n",
    "\n",
    "De la página de [Julia](https://julialang.org/) hay que descargar la versión de Julia apropiada para el sistema operativo. En el caso de Windows hay que dar doble click en el instalador y seguir las instrucciones. En el caso de Mac y Linux basta con copiar el paquete descargado a nuestra carpeta de Aplicaciones o donde queremos que el programa esté alojado. \n",
    "\n",
    "Para iniciar Julia en Windows o Mac se puede hacer doble click en la aplicación instalada y abrirá la terminal donde se ejecutará Julia. En el caso de Linux, y también en Mac funciona, podemos abrir la terminal y ejecutar el comando:\n",
    "\n",
    "`/Applications/Julia-1.5.app/Contents/Resources/julia/bin/julia`\n",
    "\n",
    "donde todo lo que está antes de `Julia-1.5.app` es la ruta donde pusimos el paquete descargado de Julia. En cualquier caso el resultado final es que en la terminal se abre el programa de Julia y se ve de la siguiente manera:\n",
    "\n",
    "```julia\n",
    "               _\n",
    "   _       _ _(_)_     |  Documentation: https://docs.julialang.org\n",
    "  (_)     | (_) (_)    |\n",
    "   _ _   _| |_  __ _   |  Type \"?\" for help, \"]?\" for Pkg help.\n",
    "  | | | | | | |/ _` |  |\n",
    "  | | |_| | | | (_| |  |  Version 1.5.1 (2020-08-25)\n",
    " _/ |\\__'_|_|_|\\__'_|  |  Official https://julialang.org/ release\n",
    "|__/                   |\n",
    "\n",
    "julia>\n",
    "```\n",
    "\n",
    "La última línea está lista para recibir instrucciones propias del lenguaje de Julia. Para salir se puede utilizar el comando `exit()`.\n"
   ]
  },
  {
   "cell_type": "markdown",
   "metadata": {},
   "source": [
    "### IJulia\n",
    "\n",
    "**IJulia** es un complemento de Julia que permite hacer notebooks de este lenguaje desde la plataforma de Jupyter. La documentación de IJulia se encuentre en el siguiente enlace: [JuliaLang/IJulia.jl](https://github.com/JuliaLang/IJulia.jl). Hay dos maneras de instalar IJulia:\n",
    "\n",
    "1. Dentro de Julia podemos ejecutar los comandos:\n",
    " ```julia\n",
    " using Pkg\n",
    " ```\n",
    " \n",
    " ```julia\n",
    " Pkg.add(\"IJulia\")\n",
    " ```\n",
    "\n",
    "2. Dentro de Julia podemos poner el símbolo `]` dar enter y posteriormente escribir el comando:\n",
    " ```julia\n",
    " add IJulia\n",
    " ```\n",
    "\n",
    "Si todo se ejecuta bien instalará IJulia correctamente después de que se despliegan algunas líneas de código. Cabe mencionar que la segunda opción es la que actualmente es más recomendada por los propios creadores de IJulia. Después de haber hecho la instalación hay que salir de Julia con `exit()` y posteriormente podemos abrir Jupyter notebook y podremos generar notebooks con el lenguaje de julia."
   ]
  },
  {
   "cell_type": "markdown",
   "metadata": {},
   "source": [
    "### Crear comando para la Terminal\n",
    "\n",
    "Una manera práctica de ejecutar Jupyter y Julia es abrir la terminal y utilizar los siguientes comandos:\n",
    "```bash\n",
    "alias Julia=\"/Applications/Julia-1.5.app/Contents/Resources/julia/bin/julia\"\n",
    "alias notebook=\"jupyter notebook\"\n",
    "```\n",
    "De esta manera podemos utilizar `Julia` y `notebook` en cualquier directorio y se ejecutará la instrucción que entre comillas. Para que estos comandos sean permanentes podemos ponerlos en el archivo de configuración de preferencias de la `Terminal`, que se encuentra oculto en el directorio que normalmente se abre por default. En muchas ocasiones este archivo es `.bash_profile` o `.zshrc` dependiendo del tipo de terminal Linux/Unix que se tenga. Estos archivos se pueden modificar con cualquier editor de texto sencillo."
   ]
  },
  {
   "cell_type": "markdown",
   "metadata": {},
   "source": [
    "Última fecha de actualización 25 de septiembre de 2020.\n",
    "\n",
    "+ Se agradece el apoyo al proyecto PAPIME PE 112919\n",
    "\n",
    "\n",
    "Video: [Instalación de Anaconda-Jupyter, Julia y IJulia](https://youtu.be/_-rXZnJ-5Sg)\n",
    "\n",
    "[Regresar a la página del las Herramientas](http://sistemas.fciencias.unam.mx/~rich/Herramientas/)\n",
    "\n",
    "[Regresar a la página del Curso de Física Computacional](http://sistemas.fciencias.unam.mx/~rich/FisComp/)"
   ]
  }
 ],
 "metadata": {
  "kernelspec": {
   "display_name": "Python 3",
   "language": "python",
   "name": "python3"
  },
  "language_info": {
   "codemirror_mode": {
    "name": "ipython",
    "version": 3
   },
   "file_extension": ".py",
   "mimetype": "text/x-python",
   "name": "python",
   "nbconvert_exporter": "python",
   "pygments_lexer": "ipython3",
   "version": "3.8.3"
  }
 },
 "nbformat": 4,
 "nbformat_minor": 4
}
